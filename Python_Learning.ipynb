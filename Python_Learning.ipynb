{
  "nbformat": 4,
  "nbformat_minor": 0,
  "metadata": {
    "colab": {
      "provenance": [],
      "authorship_tag": "ABX9TyOn1wsTwbIJq1snQvp2si/P",
      "include_colab_link": true
    },
    "kernelspec": {
      "name": "python3",
      "display_name": "Python 3"
    },
    "language_info": {
      "name": "python"
    }
  },
  "cells": [
    {
      "cell_type": "markdown",
      "metadata": {
        "id": "view-in-github",
        "colab_type": "text"
      },
      "source": [
        "<a href=\"https://colab.research.google.com/github/darkknight20032001/2005528/blob/main/Python_Learning.ipynb\" target=\"_parent\"><img src=\"https://colab.research.google.com/assets/colab-badge.svg\" alt=\"Open In Colab\"/></a>"
      ]
    },
    {
      "cell_type": "code",
      "execution_count": null,
      "metadata": {
        "colab": {
          "base_uri": "https://localhost:8080/"
        },
        "id": "OOR1DJszKCak",
        "outputId": "5b910dbd-e013-4f54-bc27-99b43c016653"
      },
      "outputs": [
        {
          "output_type": "stream",
          "name": "stdout",
          "text": [
            "hello  world\n"
          ]
        }
      ],
      "source": [
        "print(\"hello\",\" world\")"
      ]
    },
    {
      "cell_type": "code",
      "source": [
        "names = input(\"name bolo \")\n",
        "\n",
        "print(f\"hello, {names}\")"
      ],
      "metadata": {
        "colab": {
          "base_uri": "https://localhost:8080/"
        },
        "id": "IKBadseXQaIN",
        "outputId": "492edbd9-9c4f-40e9-d315-47cebba73253"
      },
      "execution_count": 6,
      "outputs": [
        {
          "output_type": "stream",
          "name": "stdout",
          "text": [
            "name bolo jeet\n",
            "hello, jeet\n"
          ]
        }
      ]
    },
    {
      "cell_type": "code",
      "source": [],
      "metadata": {
        "id": "CkHniwNDFGqf"
      },
      "execution_count": null,
      "outputs": []
    },
    {
      "cell_type": "code",
      "source": [
        "names = input(\"name bolo \")\n",
        "print(names)\n",
        "names = names.title()\n",
        "print(names)"
      ],
      "metadata": {
        "colab": {
          "base_uri": "https://localhost:8080/"
        },
        "id": "8WFTiXv2TlO1",
        "outputId": "8a74f23a-319c-44ad-bcdc-0c0ef69b08b0"
      },
      "execution_count": null,
      "outputs": [
        {
          "output_type": "stream",
          "name": "stdout",
          "text": [
            "name bolo ben kingsley\n",
            "ben kingsley\n",
            "Ben Kingsley\n"
          ]
        }
      ]
    },
    {
      "cell_type": "code",
      "source": [
        "a = int(input(\"Number 1 \"))\n",
        "b = int(input(\"Number 2 \"))\n",
        "sum = a+b\n",
        "print(sum+1)"
      ],
      "metadata": {
        "colab": {
          "base_uri": "https://localhost:8080/"
        },
        "id": "LAlZ_iZjVBWD",
        "outputId": "6216a424-0363-4e1f-929d-75923eb9aebf"
      },
      "execution_count": null,
      "outputs": [
        {
          "output_type": "stream",
          "name": "stdout",
          "text": [
            "Number 1 66\n",
            "Number 2 34\n",
            "101\n"
          ]
        }
      ]
    },
    {
      "cell_type": "code",
      "source": [
        "def add(a,b):\n",
        "  return a+b\n",
        "\n",
        "a=int(input(\"Enter the number 1 \"))\n",
        "b=int(input(\"Enter the number 2 \"))\n",
        "s = add(a,b)\n",
        "print(f\"the sum is {s}\")"
      ],
      "metadata": {
        "colab": {
          "base_uri": "https://localhost:8080/"
        },
        "id": "WAAclRnPHD_h",
        "outputId": "bd1cb80c-5a1d-4fc2-eec5-d4d0ebda1278"
      },
      "execution_count": 8,
      "outputs": [
        {
          "output_type": "stream",
          "name": "stdout",
          "text": [
            "Enter the number 123\n",
            "Enter the number 2200\n",
            "the sum is 223\n"
          ]
        }
      ]
    },
    {
      "cell_type": "code",
      "source": [
        "def showDigits(a):\n",
        "  return a*100\n",
        "\n",
        "a = int(input(\"Enter the number in kilometres\"))\n",
        "m = showDigits(a)\n",
        "print(f\"The number in metres = {m}\")"
      ],
      "metadata": {
        "colab": {
          "base_uri": "https://localhost:8080/"
        },
        "id": "hsg1KB4kHpID",
        "outputId": "fafcfe4f-93f3-4f9e-8700-469485f7228f"
      },
      "execution_count": 9,
      "outputs": [
        {
          "output_type": "stream",
          "name": "stdout",
          "text": [
            "Enter the number in kilometres100\n",
            "The number in metres = 10000\n"
          ]
        }
      ]
    },
    {
      "cell_type": "code",
      "source": [
        "def hello(to=\"city\"):\n",
        "  print(f\"Hello {to}\")\n",
        "\n",
        "name = input(\"Input something \")\n",
        "print(\"hello(name) = \")\n",
        "hello(name)\n",
        "print(\"hello() = \")\n",
        "hello()"
      ],
      "metadata": {
        "colab": {
          "base_uri": "https://localhost:8080/"
        },
        "id": "OewSMb9YIQj0",
        "outputId": "1bb3c787-7c3d-4bbd-df6e-061be3878f84"
      },
      "execution_count": 10,
      "outputs": [
        {
          "output_type": "stream",
          "name": "stdout",
          "text": [
            "Input something rachit\n",
            "hello(name) = \n",
            "Hello rachit\n",
            "hello() = \n",
            "Hello city\n"
          ]
        }
      ]
    },
    {
      "cell_type": "code",
      "source": [
        "def main():\n",
        "  printFun()\n",
        "\n",
        "def printFun():\n",
        "  print(\"Hello world\")\n",
        "\n",
        "main()"
      ],
      "metadata": {
        "colab": {
          "base_uri": "https://localhost:8080/"
        },
        "id": "5fjbkD5hJNQ7",
        "outputId": "c4e177aa-2b25-4501-85fb-f9cbe0351a53"
      },
      "execution_count": 11,
      "outputs": [
        {
          "output_type": "stream",
          "name": "stdout",
          "text": [
            "Hello world\n"
          ]
        }
      ]
    }
  ]
}